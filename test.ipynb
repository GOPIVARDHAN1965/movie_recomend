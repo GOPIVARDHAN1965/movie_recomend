{
 "cells": [
  {
   "cell_type": "code",
   "execution_count": 1,
   "metadata": {},
   "outputs": [],
   "source": [
    "import pandas as pd\n",
    "from sklearn.neighbors import NearestNeighbors\n",
    "import matplotlib.pyplot as plt\n",
    "from scipy.sparse import csr_matrix"
   ]
  },
  {
   "cell_type": "code",
   "execution_count": 17,
   "metadata": {},
   "outputs": [],
   "source": [
    "movies = pd.read_csv('movies.csv')\n",
    "ratings = pd.read_csv('ratings.csv')\n",
    "final_dataset=ratings.pivot(index=\"movieId\", columns=\"userId\", values=\"rating\")\n",
    "final_dataset.fillna(0,inplace=True)\n",
    "no_of_users_who_rated_movie = ratings.groupby('movieId')['userId'].agg('count')\n",
    "final_dataset=final_dataset.loc[no_of_users_who_rated_movie[no_of_users_who_rated_movie>10].index,:]\n",
    "movies_rated_by_users = ratings.groupby('userId')['movieId'].agg('count')\n",
    "final_dataset = final_dataset.loc[:,movies_rated_by_users[movies_rated_by_users>50].index]\n",
    "csr_data = csr_matrix(final_dataset.values)\n",
    "final_dataset.reset_index(inplace=True)"
   ]
  },
  {
   "cell_type": "code",
   "execution_count": 18,
   "metadata": {},
   "outputs": [],
   "source": [
    "def movie_rec(movie_name):\n",
    "    movie_list = movies[movies['title'].str.contains(movie_name)]\n",
    "    movie_index = movie_list.iloc[0]['movieId']\n",
    "    knn=NearestNeighbors(metric='cosine',n_neighbors=20)\n",
    "    knn.fit(csr_data)\n",
    "    similarities,indeces=knn.kneighbors(csr_data[final_dataset[final_dataset['movieId'] == movie_index].index[0]],n_neighbors=11)\n",
    "    rec = sorted(zip(indeces.squeeze().tolist(),similarities.squeeze().tolist()),key=lambda x:x[1])[:0:-1]\n",
    "    l=[]\n",
    "    for val in rec:\n",
    "        movie_Id = final_dataset.iloc[val[0]]['movieId']\n",
    "        l.append(movies[movies['movieId']==movie_Id]['title'].values[0])\n",
    "        print(movies[movies['movieId']==movie_Id]['title'].values[0])\n",
    "    return l"
   ]
  },
  {
   "cell_type": "code",
   "execution_count": 14,
   "metadata": {},
   "outputs": [],
   "source": [
    "def movie(name):\n",
    "    get_name = name.split(' ')\n",
    "    correct_name=''\n",
    "    for index in range(len(get_name)):\n",
    "        if index==0 and get_name[index].isalpha():\n",
    "            get_name[index]=get_name[index].capitalize()\n",
    "            correct_name+=get_name[index]\n",
    "        elif get_name[index].isalpha():\n",
    "            get_name[index]=get_name[index].capitalize()\n",
    "            correct_name+=' '+get_name[index]\n",
    "        else:\n",
    "            correct_name+=' '+get_name[index]\n",
    "        print(correct_name)\n",
    "    return movie_rec(correct_name)"
   ]
  },
  {
   "cell_type": "code",
   "execution_count": 15,
   "metadata": {},
   "outputs": [],
   "source": [
    "movies = pd.read_csv('movies.csv')\n",
    "ratings = pd.read_csv('ratings.csv')"
   ]
  },
  {
   "cell_type": "code",
   "execution_count": 28,
   "metadata": {},
   "outputs": [],
   "source": [
    "movie_name = 'The avengers'"
   ]
  },
  {
   "cell_type": "code",
   "execution_count": 33,
   "metadata": {},
   "outputs": [],
   "source": [
    "# Preprocess the titles\n",
    "movies['clean_title'] = movies['title'].str.lower().str.split('(').str[0].str.strip()"
   ]
  },
  {
   "cell_type": "code",
   "execution_count": 34,
   "metadata": {},
   "outputs": [],
   "source": [
    "movie_list = movies[movies['clean_title'].str.contains(movie_name.lower(), na=False)]"
   ]
  },
  {
   "cell_type": "code",
   "execution_count": 38,
   "metadata": {},
   "outputs": [
    {
     "name": "stderr",
     "output_type": "stream",
     "text": [
      "/Applications/websites/movie_recom/movie_recomend/env/lib/python3.9/site-packages/fuzzywuzzy/fuzz.py:11: UserWarning: Using slow pure-python SequenceMatcher. Install python-Levenshtein to remove this warning\n",
      "  warnings.warn('Using slow pure-python SequenceMatcher. Install python-Levenshtein to remove this warning')\n"
     ]
    },
    {
     "name": "stdout",
     "output_type": "stream",
     "text": [
      "[('avengers, the', 95, 1611), ('avengers, the', 95, 7693), ('father of the bride part ii', 86, 4), ('american president, the', 86, 10), ('city of lost children, the', 86, 28)]\n"
     ]
    }
   ],
   "source": [
    "from fuzzywuzzy import process\n",
    "\n",
    "def fuzzy_search(movie_name, choices, limit=5):\n",
    "    return process.extract(movie_name, choices, limit=limit)\n",
    "\n",
    "# Use fuzzy matching to find top 5 matches\n",
    "matches = fuzzy_search(movie_name.lower(), movies['clean_title'])\n",
    "print(matches)  # Returns a list of tuples (matched_title, score, index)"
   ]
  },
  {
   "cell_type": "code",
   "execution_count": null,
   "metadata": {},
   "outputs": [],
   "source": [
    "from fuzzywuzzy import process\n",
    "\n",
    "def movie_rec(movie_name):\n",
    "    # Preprocess titles\n",
    "    movies['clean_title'] = movies['title'].str.lower().str.split('(').str[0].str.strip()\n",
    "    # Fuzzy matching\n",
    "    matches = process.extract(movie_name.lower(), movies['clean_title'], limit=5)\n",
    "    if not matches:\n",
    "        print(f\"No matches found for '{movie_name}'\")\n",
    "        return\n",
    "    # Pick the best match above a confidence threshold\n",
    "    best_match = matches[0]\n",
    "    if best_match[1] >= 75:  # Confidence score\n",
    "        movie_index = movies.iloc[best_match[2]]['movieId']\n",
    "        print(f\"Match found: {best_match[0]} (MovieId: {movie_index})\")\n",
    "        # Continue with KNN or other logic...\n",
    "        # movie_index = movie_list.iloc[0]['movieId']\n",
    "        knn=NearestNeighbors(metric='cosine',n_neighbors=20)\n",
    "        knn.fit(csr_data)\n",
    "        similarities,indeces=knn.kneighbors(csr_data[final_dataset[final_dataset['movieId'] == movie_index].index[0]],n_neighbors=11)\n",
    "        rec = sorted(zip(indeces.squeeze().tolist(),similarities.squeeze().tolist()),key=lambda x:x[1])[:0:-1]\n",
    "        l=[]\n",
    "        for val in rec:\n",
    "            movie_Id = final_dataset.iloc[val[0]]['movieId']\n",
    "            l.append(movies[movies['movieId']==movie_Id]['title'].values[0])\n",
    "            print(movies[movies['movieId']==movie_Id]['title'].values[0])\n",
    "        return l\n",
    "    else:\n",
    "        print(f\"No good match found for '{movie_name}'\")"
   ]
  },
  {
   "cell_type": "code",
   "execution_count": 43,
   "metadata": {},
   "outputs": [
    {
     "name": "stdout",
     "output_type": "stream",
     "text": [
      "Match found: avengers, the (MovieId: 2153)\n",
      "Matilda (1996)\n",
      "Haunting, The (1999)\n",
      "Mercury Rising (1998)\n",
      "Speed 2: Cruise Control (1997)\n",
      "Reindeer Games (2000)\n",
      "Snake Eyes (1998)\n",
      "William Shakespeare's A Midsummer Night's Dream (1999)\n",
      "Anaconda (1997)\n",
      "Edge, The (1997)\n",
      "Sphere (1998)\n"
     ]
    },
    {
     "data": {
      "text/plain": [
       "['Matilda (1996)',\n",
       " 'Haunting, The (1999)',\n",
       " 'Mercury Rising (1998)',\n",
       " 'Speed 2: Cruise Control (1997)',\n",
       " 'Reindeer Games (2000)',\n",
       " 'Snake Eyes (1998)',\n",
       " \"William Shakespeare's A Midsummer Night's Dream (1999)\",\n",
       " 'Anaconda (1997)',\n",
       " 'Edge, The (1997)',\n",
       " 'Sphere (1998)']"
      ]
     },
     "execution_count": 43,
     "metadata": {},
     "output_type": "execute_result"
    }
   ],
   "source": [
    "movie_rec('The avengers')"
   ]
  },
  {
   "cell_type": "code",
   "execution_count": null,
   "metadata": {},
   "outputs": [],
   "source": []
  }
 ],
 "metadata": {
  "kernelspec": {
   "display_name": "env",
   "language": "python",
   "name": "python3"
  },
  "language_info": {
   "codemirror_mode": {
    "name": "ipython",
    "version": 3
   },
   "file_extension": ".py",
   "mimetype": "text/x-python",
   "name": "python",
   "nbconvert_exporter": "python",
   "pygments_lexer": "ipython3",
   "version": "3.9.7"
  }
 },
 "nbformat": 4,
 "nbformat_minor": 2
}
